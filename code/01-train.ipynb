{
 "cells": [
  {
   "attachments": {},
   "cell_type": "markdown",
   "metadata": {},
   "source": [
    "# Training a simple classifier\n",
    "This notebook will fit a gradient boosted ensemble of trees to the infamous 1995 _breast cancer_ dataset. The goal is to produce a model that can somewhat-accurately predict if a patient has breast cancer or not.\n",
    "\n",
    "We will then export the fitted model and deploy it using AWS Lambda and API Gateway to enable it for online consumption."
   ]
  },
  {
   "attachments": {},
   "cell_type": "markdown",
   "metadata": {},
   "source": [
    "## Imports"
   ]
  },
  {
   "cell_type": "code",
   "execution_count": null,
   "metadata": {},
   "outputs": [],
   "source": [
    "import pandas as pd\n",
    "from sklearn.datasets import load_breast_cancer\n",
    "from sklearn.ensemble import GradientBoostingClassifier\n",
    "from sklearn.feature_selection import RFECV\n",
    "from sklearn.model_selection import GridSearchCV, train_test_split"
   ]
  },
  {
   "attachments": {},
   "cell_type": "markdown",
   "metadata": {},
   "source": [
    "## Load data\n",
    "The dataset has 560 observations, 30 features and one target.\n",
    "\n",
    "By default, the target is encoded as:\n",
    "- `0` for malignant tumors; and\n",
    "- `1` for benign tumors.\n",
    "\n",
    "We will flip the labels so that `1` implies malignant (line 12 in the following cell)."
   ]
  },
  {
   "cell_type": "code",
   "execution_count": null,
   "metadata": {},
   "outputs": [],
   "source": [
    "# Load dataset\n",
    "all_data = load_breast_cancer()\n",
    "\n",
    "# Features to pandas\n",
    "X = pd.DataFrame(\n",
    "    data=all_data['data'],\n",
    "    columns=all_data['feature_names']\n",
    ")\n",
    "\n",
    "# Target to pandas\n",
    "y = pd.DataFrame(\n",
    "    data=(1 - all_data['target']), # Flip target labels\n",
    "    columns=['malignant']\n",
    ")\n",
    "\n",
    "# Split data into training and testing datasets\n",
    "X_train, X_test, y_train, y_test = train_test_split(\n",
    "    X,\n",
    "    y,\n",
    "    test_size=0.2,\n",
    "    random_state=42\n",
    ")"
   ]
  },
  {
   "attachments": {},
   "cell_type": "markdown",
   "metadata": {},
   "source": [
    "## Feature selection\n",
    "We will now instantiate a classifier with some generic hyperparameters. We will then recursively fit this model on the data, and in each step, we will drop the least important feature. We do this to limit the number of features needed to make a good prediction."
   ]
  },
  {
   "cell_type": "code",
   "execution_count": null,
   "metadata": {},
   "outputs": [],
   "source": [
    "# Instantiate model\n",
    "clf = GradientBoostingClassifier(\n",
    "    learning_rate=0.01,\n",
    "    n_estimators=1000,\n",
    "    max_depth=3,\n",
    "    max_features=9,\n",
    "    random_state=42\n",
    ")\n",
    "\n",
    "# Instantiate feature eliminator\n",
    "rfe = RFECV(\n",
    "    estimator=clf,\n",
    "    step=1,\n",
    "    min_features_to_select=5,\n",
    "    cv=10,\n",
    "    scoring='f1',\n",
    "    n_jobs=-1\n",
    ")\n",
    "\n",
    "# Fit many models, each with less features\n",
    "rfe = rfe.fit(\n",
    "    X=X_train,\n",
    "    y=y_train['malignant']\n",
    ")\n",
    "\n",
    "# Store top-five features\n",
    "cols = [rfe.get_feature_names_out()]\n",
    "\n",
    "# Print results\n",
    "print(f'The optimal model uses {rfe.n_features_} features:\\n{rfe.get_feature_names_out()}')"
   ]
  },
  {
   "attachments": {},
   "cell_type": "markdown",
   "metadata": {},
   "source": [
    "## Model selection\n",
    "Now that we have found the best subset of features for the basic model, we will play around with its hyperparameters to find the best overall model."
   ]
  },
  {
   "cell_type": "code",
   "execution_count": null,
   "metadata": {},
   "outputs": [],
   "source": [
    "grid = {\n",
    "    'n_estimators': [500, 1000, 1500, 2000],\n",
    "    'max_depth': [1, 2, 3]\n",
    "}\n",
    "\n",
    "GridSearchCV(\n",
    "    estimator=clf\n",
    ")"
   ]
  }
 ],
 "metadata": {
  "kernelspec": {
   "display_name": "Python 3",
   "language": "python",
   "name": "python3"
  },
  "language_info": {
   "codemirror_mode": {
    "name": "ipython",
    "version": 3
   },
   "file_extension": ".py",
   "mimetype": "text/x-python",
   "name": "python",
   "nbconvert_exporter": "python",
   "pygments_lexer": "ipython3",
   "version": "3.11.1"
  },
  "orig_nbformat": 4,
  "vscode": {
   "interpreter": {
    "hash": "aee8b7b246df8f9039afb4144a1f6fd8d2ca17a180786b69acc140d282b71a49"
   }
  }
 },
 "nbformat": 4,
 "nbformat_minor": 2
}
